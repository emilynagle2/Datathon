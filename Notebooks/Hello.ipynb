{
 "cells": [
  {
   "cell_type": "code",
   "execution_count": 1,
   "id": "2eb22927",
   "metadata": {},
   "outputs": [
    {
     "name": "stdout",
     "output_type": "stream",
     "text": [
      "Hello World!\n"
     ]
    }
   ],
   "source": [
    "print(\"Hello World!\")"
   ]
  },
  {
   "cell_type": "code",
   "execution_count": 9,
   "id": "e7c8a92c",
   "metadata": {},
   "outputs": [
    {
     "name": "stdout",
     "output_type": "stream",
     "text": [
      "   STATUSID        STATUS\n",
      "0         1      Finished\n",
      "1         2  Disqualified\n",
      "2         3      Accident\n",
      "3         4     Collision\n",
      "4         5        Engine\n"
     ]
    }
   ],
   "source": [
    "import snowflake.connector\n",
    "import os\n",
    "import pandas as pd\n",
    "import dotenv as dot\n",
    "# from dotenv import load_dotenv\n",
    "\n",
    "DATABASE_SCHEMA = \"PLAYGROUND.DATATHON\"\n",
    "\n",
    "def get_snowflake_connection():\n",
    "    \"\"\"\n",
    "    Create a connection to Snowflake using credentials from .env file\n",
    "    \"\"\"\n",
    "    # Load environment variables\n",
    "    dot.load_dotenv()\n",
    "    \n",
    "    # Get connection parameters from environment variables\n",
    "    conn = snowflake.connector.connect(\n",
    "        account=os.getenv(\"SNOWFLAKE_ACCOUNT\"),\n",
    "        user=os.getenv(\"SNOWFLAKE_USER\"),\n",
    "        password=os.getenv(\"SNOWFLAKE_PASSWORD\"),\n",
    "        role=os.getenv(\"SNOWFLAKE_ROLE\"),\n",
    "        warehouse=os.getenv(\"SNOWFLAKE_WAREHOUSE\"),\n",
    "        database=os.getenv(\"SNOWFLAKE_DATABASE\"),\n",
    "        schema=os.getenv(\"SNOWFLAKE_SCHEMA\")\n",
    "    )\n",
    "    \n",
    "    return conn\n",
    "\n",
    "def query_to_df(query):\n",
    "    \"\"\"\n",
    "    Execute a query and return the results as a pandas DataFrame\n",
    "    \"\"\"\n",
    "    conn = get_snowflake_connection()\n",
    "    cursor = conn.cursor()\n",
    "    cursor.execute(query)\n",
    "\n",
    "    # Get column names\n",
    "    columns = [col[0] for col in cursor.description]\n",
    "\n",
    "    # Fetch all rows and convert to list of dictionaries\n",
    "    results = [dict(zip(columns, row)) for row in cursor.fetchall()]\n",
    "\n",
    "    cursor.close()\n",
    "    conn.close()\n",
    "\n",
    "    return pd.DataFrame(results)\n",
    "\n",
    "\n",
    "# Example status_df \n",
    "status = query_to_df(f\"SELECT * FROM {DATABASE_SCHEMA}.status\")\n",
    "print(status.head())"
   ]
  }
 ],
 "metadata": {
  "kernelspec": {
   "display_name": ".emily_venv",
   "language": "python",
   "name": "python3"
  },
  "language_info": {
   "codemirror_mode": {
    "name": "ipython",
    "version": 3
   },
   "file_extension": ".py",
   "mimetype": "text/x-python",
   "name": "python",
   "nbconvert_exporter": "python",
   "pygments_lexer": "ipython3",
   "version": "3.13.3"
  }
 },
 "nbformat": 4,
 "nbformat_minor": 5
}
