{
 "cells": [
  {
   "cell_type": "markdown",
   "id": "f55a0a2f",
   "metadata": {},
   "source": [
    "# H1 Mercedes F1 Performance Analysis: Identifying Key Success Factors (2014 Onwards)\n",
    "# H3 Summary\n",
    "This report presents a comprehensive analysis of Mercedes' Formula 1 performance from 2014 onwards, with comparisons to McLaren and other top teams. Using advanced data analytics and machine learning techniques, we've identified the key factors that correlate with Mercedes' race wins, focusing specifically on pole gap, lap times, race location, and pit stop strategies.\n",
    "\n",
    "Our analysis reveals that Mercedes' dominance during this period can be attributed to several key factors:\n",
    "\n",
    "1. Superior qualifying performance with minimal pole gaps\n",
    "\n",
    "2. Consistent race pace with competitive lap times\n",
    "\n",
    "3. Strong performance at specific circuit types\n",
    "\n",
    "4. Efficient pit stop strategies\n",
    "\n",
    "This report will provide insights into each of these factors and offers recommendations for maintaining competitive advantage in future seasons."
   ]
  },
  {
   "cell_type": "markdown",
   "id": "0e04c314",
   "metadata": {},
   "source": [
    "# H2 Data Preparation and Cleaning"
   ]
  },
  {
   "cell_type": "code",
   "execution_count": null,
   "id": "33939476",
   "metadata": {
    "vscode": {
     "languageId": "plaintext"
    }
   },
   "outputs": [],
   "source": [
    "load datasets we want to use, filter from 2014 onwards"
   ]
  },
  {
   "cell_type": "markdown",
   "id": "f85ee34b",
   "metadata": {},
   "source": [
    "# H3 Handling Missing Values\n",
    "\n",
    "see task a_b masterdataset, lets add this in pitstops and laptimes if needed also"
   ]
  },
  {
   "cell_type": "markdown",
   "id": "9a2241c1",
   "metadata": {},
   "source": [
    "# H3 Feature Engineering"
   ]
  },
  {
   "cell_type": "code",
   "execution_count": null,
   "id": "4343bf93",
   "metadata": {
    "vscode": {
     "languageId": "plaintext"
    }
   },
   "outputs": [],
   "source": [
    "Create pole gap, position change, lap time difference from fastest gap\n",
    "Altitude categories -> sea level, low, med, high (change what emily did with jsut low and high)\n",
    "Indicators for win, podium"
   ]
  },
  {
   "cell_type": "markdown",
   "id": "b88a00ba",
   "metadata": {},
   "source": [
    "# H2 EDA"
   ]
  },
  {
   "cell_type": "markdown",
   "id": "599fa5b0",
   "metadata": {},
   "source": [
    "# H3 Team Performance Overview"
   ]
  },
  {
   "cell_type": "code",
   "execution_count": null,
   "id": "122e1187",
   "metadata": {
    "vscode": {
     "languageId": "plaintext"
    }
   },
   "outputs": [],
   "source": [
    "Get the top teams for comparisons, include mercedes and mclaren if they aren't in -> top 5->10 teams\n",
    "\n",
    "Get win rate, podium rate, dnf rate, average points, grid to finish\n",
    "\n",
    "visualise team performances by year \n"
   ]
  },
  {
   "cell_type": "markdown",
   "id": "d175c6e6",
   "metadata": {},
   "source": [
    "# H3 Pole Gap Analysis"
   ]
  },
  {
   "cell_type": "code",
   "execution_count": null,
   "id": "e6aa4be0",
   "metadata": {
    "vscode": {
     "languageId": "plaintext"
    }
   },
   "outputs": [],
   "source": [
    "pole gap analysis for top teams\n",
    "\n",
    "visualise gap distribution\n",
    "relationship between pole gap and race win %"
   ]
  },
  {
   "cell_type": "markdown",
   "id": "5fae0c0c",
   "metadata": {},
   "source": [
    "# H3 Lap Time Analysis"
   ]
  },
  {
   "cell_type": "code",
   "execution_count": null,
   "id": "da231c3f",
   "metadata": {
    "vscode": {
     "languageId": "plaintext"
    }
   },
   "outputs": [],
   "source": [
    "lap time analysis for top teams\n",
    "visualise distribution\n",
    "relationship between fastest lap and race win"
   ]
  },
  {
   "cell_type": "markdown",
   "id": "467e99b9",
   "metadata": {},
   "source": [
    "# H3 Circuit Location Analysis"
   ]
  },
  {
   "cell_type": "code",
   "execution_count": null,
   "id": "316ac831",
   "metadata": {
    "vscode": {
     "languageId": "plaintext"
    }
   },
   "outputs": [],
   "source": [
    "performance by circuit for Mercedes vs McLaren 0? TODO could be a good idea to just focus on these two teams\n",
    "\n",
    "for each team:\n",
    "    top 10 circuits\n",
    "performance by altitude category"
   ]
  },
  {
   "cell_type": "markdown",
   "id": "810050e9",
   "metadata": {},
   "source": [
    "# H3 Tire Strategy/ Pit Stop Analysis"
   ]
  },
  {
   "cell_type": "code",
   "execution_count": null,
   "id": "d5160ce7",
   "metadata": {
    "vscode": {
     "languageId": "plaintext"
    }
   },
   "outputs": [],
   "source": [
    "#estimate pitstops\n",
    "analyse mercedes + mclaren performance by estimated pit stop\n",
    "visualise\n"
   ]
  },
  {
   "cell_type": "markdown",
   "id": "9eb8f7fb",
   "metadata": {},
   "source": [
    "# H2 Factor Analysis using Machine Learning"
   ]
  },
  {
   "cell_type": "markdown",
   "id": "41d3e18d",
   "metadata": {},
   "source": [
    "# H3 Prepare Data for Modelling"
   ]
  },
  {
   "cell_type": "code",
   "execution_count": null,
   "id": "e2b4347d",
   "metadata": {
    "vscode": {
     "languageId": "plaintext"
    }
   },
   "outputs": [],
   "source": [
    "focus on mercedes and McLaren\n",
    "define features and target -> pole gap, grid, fastest lap sec, fastest lap speed, circuit name, country, alt category\n",
    "handle missing vals\n",
    "categorical variables encode -> circuit name, country, alt category\n",
    "split data etc. etc."
   ]
  },
  {
   "cell_type": "markdown",
   "id": "5a3822b4",
   "metadata": {},
   "source": [
    "# H3 Model 1 - Random Forest Model"
   ]
  },
  {
   "cell_type": "markdown",
   "id": "b9382173",
   "metadata": {},
   "source": [
    "# H3 Model 2 - Logistic Regression for Interpretability"
   ]
  },
  {
   "cell_type": "markdown",
   "id": "a08ff1ed",
   "metadata": {},
   "source": [
    "# H3 Model 3 - Gradient Boosting Classifier"
   ]
  },
  {
   "cell_type": "markdown",
   "id": "ed7ab582",
   "metadata": {},
   "source": [
    "# H3 Model 4 - Support Vector Machine"
   ]
  },
  {
   "cell_type": "markdown",
   "id": "198fdb86",
   "metadata": {},
   "source": [
    "# H3 Model 5 - Neural Network"
   ]
  },
  {
   "cell_type": "markdown",
   "id": "6fa5618d",
   "metadata": {},
   "source": [
    "# H2 Model Comparison"
   ]
  },
  {
   "cell_type": "markdown",
   "id": "f38af31e",
   "metadata": {},
   "source": [
    "# H3 3. Circuit Location Analysis"
   ]
  },
  {
   "cell_type": "markdown",
   "id": "af231270",
   "metadata": {},
   "source": [
    "# Key Findings and Insights"
   ]
  },
  {
   "cell_type": "markdown",
   "id": "e9e44ca8",
   "metadata": {},
   "source": [
    "# H3 1. Pole Gap Analysis"
   ]
  },
  {
   "cell_type": "markdown",
   "id": "27f78746",
   "metadata": {},
   "source": [
    "# H3 2. Lap Time Analysis"
   ]
  },
  {
   "cell_type": "markdown",
   "id": "ac40e2bb",
   "metadata": {},
   "source": [
    "# H3 3. Circuit Location Analysis"
   ]
  },
  {
   "cell_type": "markdown",
   "id": "6e1d2d04",
   "metadata": {},
   "source": [
    "# H3 4. Machine Learning Factor Analysis"
   ]
  },
  {
   "cell_type": "markdown",
   "id": "5134f881",
   "metadata": {},
   "source": [
    "# Recommendations and Conclusion"
   ]
  }
 ],
 "metadata": {
  "language_info": {
   "name": "python"
  }
 },
 "nbformat": 4,
 "nbformat_minor": 5
}
